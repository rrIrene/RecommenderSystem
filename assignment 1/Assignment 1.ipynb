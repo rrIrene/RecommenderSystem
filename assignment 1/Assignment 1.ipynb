{
 "cells": [
  {
   "cell_type": "markdown",
   "metadata": {},
   "source": [
    "# Assignment 1\n"
   ]
  },
  {
   "cell_type": "code",
   "execution_count": 2,
   "metadata": {},
   "outputs": [
    {
     "name": "stderr",
     "output_type": "stream",
     "text": [
      "Using TensorFlow backend.\n"
     ]
    }
   ],
   "source": [
    "import numpy as np\n",
    "np.random.seed(13) #TODO Check if this is used for sgd\n",
    "import keras.backend as K\n",
    "from keras.models import Sequential\n",
    "from keras.layers import Dense, Embedding, Reshape, Lambda\n",
    "from keras.utils import np_utils\n",
    "from keras.utils.data_utils import get_file\n",
    "from keras.preprocessing.text import Tokenizer\n",
    "from keras.utils.vis_utils import model_to_dot\n",
    "from keras.preprocessing import sequence\n",
    "from gensim.models import KeyedVectors\n",
    "from sklearn.manifold import TSNE\n",
    "from sklearn.metrics.pairwise import cosine_similarity\n",
    "from sklearn.neighbors import NearestNeighbors as nn\n",
    "from matplotlib import pylab\n",
    "from __future__ import division"
   ]
  },
  {
   "cell_type": "code",
   "execution_count": 3,
   "metadata": {},
   "outputs": [],
   "source": [
    "# DO NOT Modify the lines in this cell\n",
    "path = 'alice.txt'\n",
    "corpus = open(path).readlines()[0:700]\n",
    "\n",
    "corpus = [sentence for sentence in corpus if sentence.count(\" \") >= 2]\n",
    "\n",
    "tokenizer = Tokenizer(filters='!\"#$%&()*+,-./:;<=>?@[\\\\]^_`{|}~\\t\\n'+\"'\")\n",
    "tokenizer.fit_on_texts(corpus)\n",
    "corpus = tokenizer.texts_to_sequences(corpus)\n",
    "nb_samples = sum(len(s) for s in corpus)\n",
    "V = len(tokenizer.word_index) + 1\n",
    "\n",
    "# Is this something they need to change?\n",
    "dim = 100\n",
    "window_size = 2 #use this window size for Skipgram, CBOW, and the model with the additional hidden layer\n",
    "window_size_corpus = 4 #use this window size for the co-occurrence matrix"
   ]
  },
  {
   "cell_type": "markdown",
   "metadata": {},
   "source": [
    "## Question 1\n",
    "\n",
    "### Co-occurrence Matrix\n",
    "Use the provided code to load the \"Alice in Wonderland\" text document. \n",
    "1. Implement the word-word co-occurrence matrix for “Alice in Wonderland”\n",
    "2. Normalize the words such that every value lies within a range of 0 and 1\n",
    "3. Compute the cosine distance between the given words:\n",
    "    - Alice \n",
    "    - Dinah\n",
    "    - Rabbit\n",
    "4. List the 5 closest words to 'Alice'. Discuss the results.\n",
    "5. Discuss what the main drawbacks are of a term-term co-occurence matrix solutions?\n"
   ]
  },
  {
   "cell_type": "code",
   "execution_count": 4,
   "metadata": {},
   "outputs": [
    {
     "data": {
      "text/html": [
       "<div>\n",
       "<style scoped>\n",
       "    .dataframe tbody tr th:only-of-type {\n",
       "        vertical-align: middle;\n",
       "    }\n",
       "\n",
       "    .dataframe tbody tr th {\n",
       "        vertical-align: top;\n",
       "    }\n",
       "\n",
       "    .dataframe thead th {\n",
       "        text-align: right;\n",
       "    }\n",
       "</style>\n",
       "<table border=\"1\" class=\"dataframe\">\n",
       "  <thead>\n",
       "    <tr style=\"text-align: right;\">\n",
       "      <th></th>\n",
       "      <th>happened</th>\n",
       "      <th>seemed</th>\n",
       "      <th>way</th>\n",
       "      <th>indeed</th>\n",
       "      <th>learnt</th>\n",
       "      <th>overhead</th>\n",
       "      <th>ring</th>\n",
       "      <th>salt</th>\n",
       "      <th>not</th>\n",
       "      <th>chin</th>\n",
       "      <th>...</th>\n",
       "      <th>laugh</th>\n",
       "      <th>splashing</th>\n",
       "      <th>cake</th>\n",
       "      <th>slowly</th>\n",
       "      <th>felt</th>\n",
       "      <th>take</th>\n",
       "      <th>pour</th>\n",
       "      <th>wondering</th>\n",
       "      <th>family</th>\n",
       "      <th>understand</th>\n",
       "    </tr>\n",
       "  </thead>\n",
       "  <tbody>\n",
       "    <tr>\n",
       "      <th>happened</th>\n",
       "      <td>0.000000</td>\n",
       "      <td>0.0</td>\n",
       "      <td>0.208514</td>\n",
       "      <td>0.0</td>\n",
       "      <td>0.0</td>\n",
       "      <td>0.0</td>\n",
       "      <td>0.0</td>\n",
       "      <td>0.0</td>\n",
       "      <td>0.0</td>\n",
       "      <td>0.0</td>\n",
       "      <td>...</td>\n",
       "      <td>0.0</td>\n",
       "      <td>0.0</td>\n",
       "      <td>0.0</td>\n",
       "      <td>0.0</td>\n",
       "      <td>0.0</td>\n",
       "      <td>0.0</td>\n",
       "      <td>0.0</td>\n",
       "      <td>0.0</td>\n",
       "      <td>0.0</td>\n",
       "      <td>0.0</td>\n",
       "    </tr>\n",
       "    <tr>\n",
       "      <th>seemed</th>\n",
       "      <td>0.000000</td>\n",
       "      <td>0.0</td>\n",
       "      <td>0.000000</td>\n",
       "      <td>0.0</td>\n",
       "      <td>0.0</td>\n",
       "      <td>0.0</td>\n",
       "      <td>0.0</td>\n",
       "      <td>0.0</td>\n",
       "      <td>0.0</td>\n",
       "      <td>0.0</td>\n",
       "      <td>...</td>\n",
       "      <td>0.0</td>\n",
       "      <td>0.0</td>\n",
       "      <td>0.0</td>\n",
       "      <td>0.0</td>\n",
       "      <td>0.0</td>\n",
       "      <td>0.0</td>\n",
       "      <td>0.0</td>\n",
       "      <td>0.0</td>\n",
       "      <td>0.0</td>\n",
       "      <td>0.0</td>\n",
       "    </tr>\n",
       "    <tr>\n",
       "      <th>way</th>\n",
       "      <td>0.039873</td>\n",
       "      <td>0.0</td>\n",
       "      <td>0.000000</td>\n",
       "      <td>0.0</td>\n",
       "      <td>0.0</td>\n",
       "      <td>0.0</td>\n",
       "      <td>0.0</td>\n",
       "      <td>0.0</td>\n",
       "      <td>0.0</td>\n",
       "      <td>0.0</td>\n",
       "      <td>...</td>\n",
       "      <td>0.0</td>\n",
       "      <td>0.0</td>\n",
       "      <td>0.0</td>\n",
       "      <td>0.0</td>\n",
       "      <td>0.0</td>\n",
       "      <td>0.0</td>\n",
       "      <td>0.0</td>\n",
       "      <td>0.0</td>\n",
       "      <td>0.0</td>\n",
       "      <td>0.0</td>\n",
       "    </tr>\n",
       "    <tr>\n",
       "      <th>indeed</th>\n",
       "      <td>0.000000</td>\n",
       "      <td>0.0</td>\n",
       "      <td>0.000000</td>\n",
       "      <td>0.0</td>\n",
       "      <td>0.0</td>\n",
       "      <td>0.0</td>\n",
       "      <td>0.0</td>\n",
       "      <td>0.0</td>\n",
       "      <td>0.0</td>\n",
       "      <td>0.0</td>\n",
       "      <td>...</td>\n",
       "      <td>0.0</td>\n",
       "      <td>0.0</td>\n",
       "      <td>0.0</td>\n",
       "      <td>0.0</td>\n",
       "      <td>0.0</td>\n",
       "      <td>0.0</td>\n",
       "      <td>0.0</td>\n",
       "      <td>0.0</td>\n",
       "      <td>0.0</td>\n",
       "      <td>0.0</td>\n",
       "    </tr>\n",
       "    <tr>\n",
       "      <th>learnt</th>\n",
       "      <td>0.000000</td>\n",
       "      <td>0.0</td>\n",
       "      <td>0.000000</td>\n",
       "      <td>0.0</td>\n",
       "      <td>0.0</td>\n",
       "      <td>0.0</td>\n",
       "      <td>0.0</td>\n",
       "      <td>0.0</td>\n",
       "      <td>0.0</td>\n",
       "      <td>0.0</td>\n",
       "      <td>...</td>\n",
       "      <td>0.0</td>\n",
       "      <td>0.0</td>\n",
       "      <td>0.0</td>\n",
       "      <td>0.0</td>\n",
       "      <td>0.0</td>\n",
       "      <td>0.0</td>\n",
       "      <td>0.0</td>\n",
       "      <td>0.0</td>\n",
       "      <td>0.0</td>\n",
       "      <td>0.0</td>\n",
       "    </tr>\n",
       "  </tbody>\n",
       "</table>\n",
       "<p>5 rows × 1182 columns</p>\n",
       "</div>"
      ],
      "text/plain": [
       "          happened  seemed       way  indeed  learnt  overhead  ring  salt  \\\n",
       "happened  0.000000     0.0  0.208514     0.0     0.0       0.0   0.0   0.0   \n",
       "seemed    0.000000     0.0  0.000000     0.0     0.0       0.0   0.0   0.0   \n",
       "way       0.039873     0.0  0.000000     0.0     0.0       0.0   0.0   0.0   \n",
       "indeed    0.000000     0.0  0.000000     0.0     0.0       0.0   0.0   0.0   \n",
       "learnt    0.000000     0.0  0.000000     0.0     0.0       0.0   0.0   0.0   \n",
       "\n",
       "          not  chin     ...      laugh  splashing  cake  slowly  felt  take  \\\n",
       "happened  0.0   0.0     ...        0.0        0.0   0.0     0.0   0.0   0.0   \n",
       "seemed    0.0   0.0     ...        0.0        0.0   0.0     0.0   0.0   0.0   \n",
       "way       0.0   0.0     ...        0.0        0.0   0.0     0.0   0.0   0.0   \n",
       "indeed    0.0   0.0     ...        0.0        0.0   0.0     0.0   0.0   0.0   \n",
       "learnt    0.0   0.0     ...        0.0        0.0   0.0     0.0   0.0   0.0   \n",
       "\n",
       "          pour  wondering  family  understand  \n",
       "happened   0.0        0.0     0.0         0.0  \n",
       "seemed     0.0        0.0     0.0         0.0  \n",
       "way        0.0        0.0     0.0         0.0  \n",
       "indeed     0.0        0.0     0.0         0.0  \n",
       "learnt     0.0        0.0     0.0         0.0  \n",
       "\n",
       "[5 rows x 1182 columns]"
      ]
     },
     "execution_count": 4,
     "metadata": {},
     "output_type": "execute_result"
    }
   ],
   "source": [
    "#create co-occurrence matrix\n",
    "import pandas as pd\n",
    "from sklearn import preprocessing\n",
    "\n",
    "#dataset with unique words as index\n",
    "words = list(tokenizer.word_index.keys())\n",
    "matrix = pd.DataFrame(words, columns=['words'])\n",
    "matrix.set_index('words', inplace=True)\n",
    "columns = pd.DataFrame(columns=words)\n",
    "matrix = pd.concat([matrix,columns])\n",
    "matrix = matrix.reindex(columns.columns, axis=1)\n",
    "matrix.fillna(0, inplace=True)\n",
    "\n",
    "#inverse index to get word by code\n",
    "inverse_index = dict((v,k) for k, v in tokenizer.word_index.items())\n",
    "\n",
    "#compute score for every word-word couple\n",
    "for line in corpus:\n",
    "    for i, word_code in enumerate(line):\n",
    "        word = inverse_index.get(word_code)\n",
    "        for j in range(max(0, i-window_size_corpus), min(len(line), i+window_size_corpus+1)):\n",
    "            if word_code != line[j]:\n",
    "                matrix[word][inverse_index.get(line[j])] += 1\n",
    "\n",
    "#normalize each sample\n",
    "normalized_values = preprocessing.normalize(matrix.values)\n",
    "matrix = pd.DataFrame(normalized_values, index=matrix.index, columns=matrix.columns)\n",
    "\n",
    "matrix.head()"
   ]
  },
  {
   "cell_type": "code",
   "execution_count": 4,
   "metadata": {},
   "outputs": [
    {
     "name": "stdout",
     "output_type": "stream",
     "text": [
      "Cosine similarity between Alice and Rabbit: 0.05461780522416199\n",
      "Cosine similarity between Alice and Dinah: 0.05073318700003422\n",
      "Cosine similarity between Dinah and Rabbit: 0.034243448025346485\n"
     ]
    }
   ],
   "source": [
    "#find cosine similarity to Alice, Dinah and Rabbit\n",
    "\n",
    "alice_vector = matrix['alice'].values.reshape(1, -1)\n",
    "rabbit_vector = matrix['rabbit'].values.reshape(1, -1)\n",
    "dinah_vector = matrix['dinah'].values.reshape(1, -1)\n",
    "\n",
    "alice_vs_rabbit = cosine_similarity(alice_vector, rabbit_vector)\n",
    "alice_vs_dinah = cosine_similarity(alice_vector, dinah_vector)\n",
    "dinah_vs_rabbit = cosine_similarity(dinah_vector, rabbit_vector)\n",
    "\n",
    "print(\"Cosine similarity between Alice and Rabbit: \" + str(alice_vs_rabbit[0][0]))\n",
    "print(\"Cosine similarity between Alice and Dinah: \" + str(alice_vs_dinah[0][0]))\n",
    "print(\"Cosine similarity between Dinah and Rabbit: \" + str(dinah_vs_rabbit[0][0]))"
   ]
  },
  {
   "cell_type": "code",
   "execution_count": 5,
   "metadata": {},
   "outputs": [
    {
     "name": "stdout",
     "output_type": "stream",
     "text": [
      "Word: i\n",
      "Distance: 3.6581715798218197\n",
      "\n",
      "Word: she\n",
      "Distance: 3.6627351402754176\n",
      "\n",
      "Word: a\n",
      "Distance: 3.664105104961175\n",
      "\n",
      "Word: very\n",
      "Distance: 3.665855124516278\n",
      "\n",
      "Word: it\n",
      "Distance: 3.6687653879055215\n",
      "\n"
     ]
    }
   ],
   "source": [
    "#find the closest words to Alice (nearest neighbors)\n",
    "\n",
    "neigh = nn()\n",
    "neigh.fit(matrix.values)\n",
    "\n",
    "neighbors = neigh.kneighbors(alice_vector, 6)\n",
    "\n",
    "for i, n in enumerate(neighbors[1][0]):\n",
    "    if matrix.index[n] != 'alice':\n",
    "        print(\"Word: {}\\nDistance: {}\\n\".format(matrix.index[n], neighbors[0][0][i]))"
   ]
  },
  {
   "cell_type": "markdown",
   "metadata": {},
   "source": [
    "The five closest words to \"Alice\" appear to be: \"I\", \"she\", \"a\", \"very\" and \"it\". It makes sense that the personal pronouns \"she\" and \"i\" are the closest ones to \"Alice\", since they are used in very similiar contexts and they are probably often followed by the same verbs. E.g. \"Alice sees the rabbit\", \"she sees the rabbit\" or \"I see the rabbit\", in direct dialogs. As for the other three words, they do not bring valuable information, as they are all quite common in the english language. A possible way to avoid this would be to remove stopwords from the corpus, in order to focus only on more meaningful terms."
   ]
  },
  {
   "cell_type": "markdown",
   "metadata": {},
   "source": [
    "Discussion of the drawbacks:\n",
    "- **Sparse matrix:** As can be seen in the output of the matrix, the word pair 'particular' and 'suddenly' never appear close to each other in the corpus, but there is still a cell reserved in the matrix for that pair. The same goes for many other pairs in the matrix, resulting in many cells with value 0. Obviously, this is not very efficient for storage.\n",
    "- **Large matrix:** As can be seen in the word co-occurrence matrix for Alice In Wonderland that was created above, the matrix size is 1182 rows x 1182 columns, where 1182 is the number of tokens in the corpus. It is easy to imagine that this will become a problem for a bigger corpus, or for a corpus which has dynamic content, e.g. a web search engine.\n",
    "- **Non-discriminative results:** As shown in the nearest neighbors calculation above, the words 'a', 'it', and 'very' do not give very meaningful correlation. However, they are among the most common words used in English language, so it makes sense that they appear often near the term 'Alice' (or any other terms in the corpus). Therefore, stopwords filter or even a different weighting score other than word occurence count should be used in order to find words correlation that is more meaningful."
   ]
  },
  {
   "cell_type": "code",
   "execution_count": 6,
   "metadata": {},
   "outputs": [],
   "source": [
    "#Save your all the vector representations of your word embeddings in this way\n",
    "#Change when necessary the sizes of the vocabulary/embedding dimension\n",
    "\n",
    "f = open('vectors_co_occurrence.txt',\"w\")\n",
    "f.write(\" \".join([str(V-1),str(V-1)]))\n",
    "f.write(\"\\n\")\n",
    "\n",
    "#vectors = your word co-occurrence matrix\n",
    "vectors = matrix.values\n",
    "for i, word in enumerate(tokenizer.word_index.keys()): \n",
    "    f.write(word)\n",
    "    f.write(\" \")\n",
    "    f.write(\" \".join(map(str, list(vectors[i,:]))))\n",
    "    f.write(\"\\n\")\n",
    "f.close()"
   ]
  },
  {
   "cell_type": "code",
   "execution_count": 5,
   "metadata": {},
   "outputs": [],
   "source": [
    "#reopen your file as follows\n",
    "\n",
    "co_occurrence = KeyedVectors.load_word2vec_format('./vectors_co_occurrence.txt', binary=False)"
   ]
  },
  {
   "cell_type": "markdown",
   "metadata": {},
   "source": [
    "## Question 2\n",
    "\n",
    "### Word embeddings\n",
    "Build embeddings with a keras implementation where the embedding vector is of length 50, 150 and 300. Use the Alice in Wonderland text book for training.\n",
    "1. Using the CBOW model\n",
    "2. Using Skipgram model\n",
    "3. Add extra hidden dense layer to CBow and Skipgram implementations. Choose an activation function for that layer and justify your answer.\n",
    "4. Analyze the four different word embeddings\n",
    "    - Implement your own function to perform the analogy task with. Do not use existing libraries for this task such as Gensim. Your function should be able to answer whether an anaology as in the example given in the pdf-file is true.\n",
    "    - Compare the performance on the analogy task between the word embeddings that you have trained in 2.1, 2.2 and 2.3.  \n",
    "    - Visualize your results and interpret your results\n",
    "5. Use the word co-occurence matrix from Question 1. Compare the performance on the analogy task with the performance of your trained word embeddings.  \n",
    "6. Discuss:\n",
    "    - What are the main advantages of CBOW and Skipgram?\n",
    "    - What is the advantage of negative sampling?\n",
    "    - What are the main drawbacks of CBOW and Skipgram?\n",
    "7. Load pre-trained embeddings on large corpuses (see the pdf file). You only have to consider the word embeddings with an embedding size of 300\n",
    "    - Compare performance on the analogy task with your own trained embeddings from \"Alice in Wonderland\". You can limit yourself to the vocabulary of Alice in Wonderland. Visualize the pre-trained word embeddings and compare these with the results of your own trained word embeddings. \n"
   ]
  },
  {
   "cell_type": "code",
   "execution_count": 19,
   "metadata": {},
   "outputs": [],
   "source": [
    "#function definitions for CBOW\n",
    "\n",
    "#generate data for CBOW\n",
    "def generate_data_cbow(corpus, window_size, V):\n",
    "    maxlen = window_size*2\n",
    "    all_in = []\n",
    "    all_out = []\n",
    "    for words in corpus:\n",
    "        L = len(words)\n",
    "        for index, word in enumerate(words):\n",
    "            p = index - window_size\n",
    "            n = index + window_size + 1\n",
    "                    \n",
    "            out_word = word\n",
    "            labels = []\n",
    "            for i in range(p, n):\n",
    "                if i != index and 0 <= i < L:\n",
    "                    #out_words.append([word])\n",
    "                    labels.append(np_utils.to_categorical(words[i], V))\n",
    "            if labels != []:\n",
    "                labels_sum = np.sum(labels, axis=0)\n",
    "                context = labels_sum / np.linalg.norm(labels_sum)\n",
    "                all_in.append(np.array([context],dtype=np.float32))\n",
    "                all_out.append(np.array([[out_word]],dtype=np.int32))\n",
    "    return (all_in,all_out)\n",
    "\n",
    "#load the preprocessed CBOW data\n",
    "def generate_data_cbow_from_file():\n",
    "    f = open('data_cbow.txt' ,'r')\n",
    "    for row in f:\n",
    "        inputs,outputs = row.split(\",\")\n",
    "        inputs = np.fromstring(inputs, dtype=float, sep=' ')\n",
    "        inputs = np.asarray([inputs])\n",
    "        outputs = np.fromstring(outputs, dtype=int, sep=' ')\n",
    "        outputs = np.asarray([outputs])\n",
    "        yield (inputs,outputs)"
   ]
  },
  {
   "cell_type": "code",
   "execution_count": 9,
   "metadata": {
    "scrolled": true
   },
   "outputs": [],
   "source": [
    "#prepare data for cbow\n",
    "   \n",
    "#get x and y's for data\n",
    "x,y = generate_data_cbow(corpus,window_size,V)\n",
    "\n",
    "#save the preprocessed data of CBOW\n",
    "f = open('data_cbow.txt' ,'w')\n",
    "\n",
    "for input,outcome  in zip(x,y):\n",
    "    input = np.concatenate(input)\n",
    "    f.write(\" \".join(map(str, list(input))))\n",
    "    f.write(\",\")\n",
    "    outcome = np.concatenate(outcome)\n",
    "    f.write(\" \".join(map(str,list(outcome))))\n",
    "    f.write(\"\\n\")\n",
    "f.close()"
   ]
  },
  {
   "cell_type": "markdown",
   "metadata": {},
   "source": [
    "#create CBOW model (TO DO)\n",
    "\n",
    "for dim in [50, 150, 300]:\n",
    "    #create model\n",
    "    cbow = Sequential()\n",
    "    cbow.add(Dense(input_dim=V, units=dim, kernel_initializer='uniform', activation='softmax'))\n",
    "    #cbow.add(Reshape((dim, )))\n",
    "    cbow.add(Embedding(input_dim=V, output_dim=dim, embeddings_initializer='glorot_uniform', input_length=1))\n",
    "    \n",
    "    #define loss function for CBOW\n",
    "    cbow.compile(loss='categorical_crossentropy', optimizer='adadelta')\n",
    "    \n",
    "    #train CBOW model\n",
    "    print(\"\\nTraining cbow for dim=\"+str(dim))\n",
    "    for ite in range(5):\n",
    "        loss = 0.\n",
    "        for x, y in generate_data_cbow_from_file():\n",
    "            loss += cbow.train_on_batch(x, y)\n",
    "        print(ite, loss)\n",
    "    \n",
    "    #save vector representation to file\n",
    "    f = open('vectors_cbow_'+str(dim)+'.txt' ,'w')\n",
    "    f.write(\" \".join([str(V-1),str(dim)]))\n",
    "    f.write(\"\\n\")\n",
    "\n",
    "    vectors = cbow.get_weights()[0]\n",
    "    for word, i in tokenizer.word_index.items():\n",
    "        f.write(word)\n",
    "        f.write(\" \")\n",
    "        f.write(\" \".join(map(str, list(vectors[i,:]))))\n",
    "        f.write(\"\\n\")\n",
    "    f.close()"
   ]
  },
  {
   "cell_type": "code",
   "execution_count": 10,
   "metadata": {},
   "outputs": [],
   "source": [
    "#define loss function\n"
   ]
  },
  {
   "cell_type": "code",
   "execution_count": 11,
   "metadata": {},
   "outputs": [],
   "source": [
    "#train model\n"
   ]
  },
  {
   "cell_type": "code",
   "execution_count": 6,
   "metadata": {},
   "outputs": [],
   "source": [
    "#function definitions for Skipgram\n",
    "\n",
    "#generate data for Skipgram\n",
    "def generate_data_skipgram(corpus, window_size, V):\n",
    "    maxlen = window_size*2\n",
    "    all_in = []\n",
    "    all_out = []\n",
    "    for words in corpus:\n",
    "        L = len(words)\n",
    "        for index, word in enumerate(words):\n",
    "            p = index - window_size\n",
    "            n = index + window_size + 1\n",
    "                    \n",
    "            in_words = []\n",
    "            labels = []\n",
    "            for i in range(p, n):\n",
    "                if i != index and 0 <= i < L:\n",
    "                    in_words.append([word])\n",
    "                    labels.append(words[i])\n",
    "            if in_words != []:\n",
    "                all_in.append(np.array(in_words,dtype=np.int32))\n",
    "                all_out.append(np_utils.to_categorical(labels, V))\n",
    "    return (all_in,all_out)\n",
    "\n",
    "#load the preprocessed Skipgram data\n",
    "def generate_data_skipgram_from_file():\n",
    "    f = open('data_skipgram.txt' ,'r')\n",
    "    for row in f:\n",
    "        inputs,outputs = row.split(\",\")\n",
    "        inputs = np.fromstring(inputs, dtype=int, sep=' ')\n",
    "        inputs = np.asarray(np.split(inputs, len(inputs)))\n",
    "        outputs = np.fromstring(outputs, dtype=float, sep=' ')\n",
    "        outputs = np.asarray(np.split(outputs, len(inputs)))\n",
    "        yield (inputs,outputs)"
   ]
  },
  {
   "cell_type": "code",
   "execution_count": 13,
   "metadata": {},
   "outputs": [],
   "source": [
    "#prepare data for Skipgram\n",
    "   \n",
    "#get x and y's for data\n",
    "x,y = generate_data_skipgram(corpus,window_size,V)\n",
    "\n",
    "#save the preprocessed data of Skipgram\n",
    "f = open('data_skipgram.txt' ,'w')\n",
    "\n",
    "for input,outcome  in zip(x,y):\n",
    "    input = np.concatenate(input)\n",
    "    f.write(\" \".join(map(str, list(input))))\n",
    "    f.write(\",\")\n",
    "    outcome = np.concatenate(outcome)\n",
    "    f.write(\" \".join(map(str,list(outcome))))\n",
    "    f.write(\"\\n\")\n",
    "f.close()"
   ]
  },
  {
   "cell_type": "code",
   "execution_count": 14,
   "metadata": {},
   "outputs": [
    {
     "name": "stdout",
     "output_type": "stream",
     "text": [
      "\n",
      "Training skipgram for dim=50\n",
      "0 41271.354187488556\n",
      "1 39126.8399810791\n",
      "2 39288.232560157776\n",
      "3 39363.88622379303\n",
      "4 39432.414731025696\n",
      "5 39512.000215768814\n",
      "6 39608.41395294666\n",
      "7 39723.93453395367\n",
      "8 39852.47196030617\n",
      "9 39987.056107997894\n",
      "\n",
      "Training skipgram for dim=150\n",
      "0 41222.655864715576\n",
      "1 38923.38359093666\n",
      "2 38988.32388424873\n",
      "3 39005.66209816933\n",
      "4 39038.837849497795\n",
      "5 39093.74402093887\n",
      "6 39156.200922489166\n",
      "7 39216.76563632488\n",
      "8 39267.67642009258\n",
      "9 39305.3429261446\n",
      "\n",
      "Training skipgram for dim=300\n",
      "0 41159.68825006485\n",
      "1 38730.84347319603\n",
      "2 38713.5351524353\n",
      "3 38676.76848196983\n",
      "4 38648.0355219841\n",
      "5 38631.884105205536\n",
      "6 38611.777688622475\n",
      "7 38578.92392885685\n",
      "8 38533.39706158638\n",
      "9 38484.56349503994\n"
     ]
    }
   ],
   "source": [
    "#create Skipgram model\n",
    "\n",
    "for dim in [50, 150, 300]:\n",
    "    #create model\n",
    "    skipgram = Sequential()\n",
    "    skipgram.add(Embedding(input_dim=V, output_dim=dim, embeddings_initializer='glorot_uniform', input_length=1))\n",
    "    skipgram.add(Reshape((dim, )))\n",
    "    skipgram.add(Dense(input_dim=dim, units=V, kernel_initializer='uniform', activation='softmax'))\n",
    "    \n",
    "    #define loss function for Skipgram\n",
    "    skipgram.compile(loss='categorical_crossentropy', optimizer='adadelta')\n",
    "    \n",
    "    #train skipgram model\n",
    "    print(\"\\nTraining skipgram for dim=\"+str(dim))\n",
    "    for ite in range(10):\n",
    "        loss = 0.\n",
    "        for x, y in generate_data_skipgram_from_file():\n",
    "            loss += skipgram.train_on_batch(x, y)\n",
    "        print(ite, loss)\n",
    "    \n",
    "    #save vector representation to file\n",
    "    f = open('vectors_skipgram_'+str(dim)+'.txt' ,'w')\n",
    "    f.write(\" \".join([str(V-1),str(dim)]))\n",
    "    f.write(\"\\n\")\n",
    "\n",
    "    vectors = skipgram.get_weights()[0]\n",
    "    for word, i in tokenizer.word_index.items():\n",
    "        f.write(word)\n",
    "        f.write(\" \")\n",
    "        f.write(\" \".join(map(str, list(vectors[i,:]))))\n",
    "        f.write(\"\\n\")\n",
    "    f.close()"
   ]
  },
  {
   "cell_type": "code",
   "execution_count": 15,
   "metadata": {},
   "outputs": [],
   "source": [
    "#create CBOW model with additional dense layer\n"
   ]
  },
  {
   "cell_type": "code",
   "execution_count": 16,
   "metadata": {},
   "outputs": [],
   "source": [
    "#define loss function for CBOW + dense\n"
   ]
  },
  {
   "cell_type": "code",
   "execution_count": 17,
   "metadata": {},
   "outputs": [],
   "source": [
    "#train model for CBOW + dense\n"
   ]
  },
  {
   "cell_type": "code",
   "execution_count": 18,
   "metadata": {},
   "outputs": [
    {
     "name": "stdout",
     "output_type": "stream",
     "text": [
      "\n",
      "Training skipgram with dense layer for dim=50\n",
      "0 39398.1423869133\n",
      "1 38929.386723041534\n",
      "2 38784.686121463776\n",
      "3 38609.711948275566\n",
      "4 38497.59895861149\n",
      "5 38394.93743932247\n",
      "6 38308.49504172802\n",
      "7 38234.45247685909\n",
      "8 38150.21204769611\n",
      "9 38082.67344665527\n",
      "\n",
      "Training skipgram with dense layer for dim=150\n",
      "0 39297.98832154274\n",
      "1 38703.91829586029\n",
      "2 38481.45571088791\n",
      "3 38229.65763485432\n",
      "4 38031.8431353569\n",
      "5 37858.61486911774\n",
      "6 37678.68290746212\n",
      "7 37499.43464541435\n",
      "8 37309.12741732597\n",
      "9 37134.485713362694\n",
      "\n",
      "Training skipgram with dense layer for dim=300\n",
      "0 39210.35425782204\n",
      "1 38579.465814352036\n",
      "2 38347.45797133446\n",
      "3 38155.709585785866\n",
      "4 37954.37697124481\n",
      "5 37795.83253669739\n",
      "6 37605.89838516712\n",
      "7 37395.25325042009\n",
      "8 37157.994569182396\n",
      "9 36893.878751158714\n"
     ]
    }
   ],
   "source": [
    "#create Skipgram model with additional dense layer\n",
    "\n",
    "for dim in [50, 150, 300]:\n",
    "    #create model\n",
    "    skipgram = Sequential()\n",
    "    skipgram.add(Embedding(input_dim=V, output_dim=dim, embeddings_initializer='glorot_uniform', input_length=1))\n",
    "    skipgram.add(Reshape((dim, )))\n",
    "    skipgram.add(Dense(128, activation=\"relu\"))\n",
    "    skipgram.add(Dense(input_dim=dim, units=V, kernel_initializer='uniform', activation='softmax'))\n",
    "    \n",
    "    #define loss function for Skipgram + dense\n",
    "    skipgram.compile(loss='categorical_crossentropy', optimizer='adadelta')\n",
    "    \n",
    "    #train model for Skipgram + dense\n",
    "    print(\"\\nTraining skipgram with dense layer for dim=\"+str(dim))\n",
    "    for ite in range(10):\n",
    "        loss = 0.\n",
    "        for x, y in generate_data_skipgram_from_file():\n",
    "            loss += skipgram.train_on_batch(x, y)\n",
    "        print(ite, loss)\n",
    "    \n",
    "    #save vector representation to file\n",
    "    f = open('vectors_skipgram_dense_'+str(dim)+'.txt' ,'w')\n",
    "    f.write(\" \".join([str(V-1),str(dim)]))\n",
    "    f.write(\"\\n\")\n",
    "\n",
    "    vectors = skipgram.get_weights()[0]\n",
    "    for word, i in tokenizer.word_index.items():\n",
    "        f.write(word)\n",
    "        f.write(\" \")\n",
    "        f.write(\" \".join(map(str, list(vectors[i,:]))))\n",
    "        f.write(\"\\n\")\n",
    "    f.close()"
   ]
  },
  {
   "cell_type": "code",
   "execution_count": 7,
   "metadata": {},
   "outputs": [],
   "source": [
    "#load vectors from files\n",
    "cbows = []\n",
    "cbows_dense = []\n",
    "skipgrams = []\n",
    "skipgrams_dense = []\n",
    "    \n",
    "for dim in [50, 150, 300]:\n",
    "    f = open('vectors_skipgram_'+str(dim)+'.txt' ,'r')\n",
    "    d = {}\n",
    "    for row in f.readlines()[1:]:\n",
    "        line = row.split()\n",
    "        d[line[0]] = line[1:]\n",
    "    skipgrams.append(d)\n",
    "    \n",
    "    f = open('vectors_skipgram_dense_'+str(dim)+'.txt' ,'r')\n",
    "    d = {}\n",
    "    for row in f.readlines()[1:]:\n",
    "        line = row.split()\n",
    "        d[line[0]] = line[1:]\n",
    "    skipgrams_dense.append(d)\n",
    "    \n",
    "#save as separate dictionaries\n",
    "skipgram_vectors_50 = skipgrams[0]\n",
    "skipgram_vectors_150 = skipgrams[1]\n",
    "skipgram_vectors_300 = skipgrams[2]\n",
    "skipgram_dense_vectors_50 = skipgrams_dense[0]\n",
    "skipgram_dense_vectors_150 = skipgrams_dense[1]\n",
    "skipgram_dense_vectors_300 = skipgrams_dense[2]"
   ]
  },
  {
   "cell_type": "code",
   "execution_count": 16,
   "metadata": {},
   "outputs": [],
   "source": [
    "#Implement your own analogy function\n",
    "def analogy_function(dictionary):\n",
    "    scores = []\n",
    "    f = open('analogy_alice.txt' ,'r')\n",
    "    for row in f:\n",
    "        line = row.split()\n",
    "        if all(x in dictionary for x in line):\n",
    "            A = np.array(dictionary[line[0]], dtype=float)\n",
    "            B = np.array(dictionary[line[1]], dtype=float)\n",
    "            C = np.array(dictionary[line[2]], dtype=float)\n",
    "            D = np.array(dictionary[line[3]], dtype=float)        \n",
    "            scores.append(cosine_similarity((A - B + C).reshape(1, -1),D.reshape(1, -1))[0][0])\n",
    "            \n",
    "    return sum(scores)/len(scores)"
   ]
  },
  {
   "cell_type": "code",
   "execution_count": 17,
   "metadata": {},
   "outputs": [
    {
     "name": "stdout",
     "output_type": "stream",
     "text": [
      "Analogy score for Skipgram model with dim=50: 0.15381802616266477\n",
      "Analogy score for Skipgram model with dim=150: 0.09847292209927094\n",
      "Analogy score for Skipgram model with dim=300: 0.07711539410906128\n",
      "\n",
      "Analogy score for Skipgram + dense model with dim=50: -0.002085916731938852\n",
      "Analogy score for Skipgram + dense model with dim=150: -0.02795878829116235\n",
      "Analogy score for Skipgram + dense model with dim=300: -0.0003669102820264852\n",
      "\n"
     ]
    }
   ],
   "source": [
    "#skipgram score\n",
    "skipgram_50_score = analogy_function(skipgram_vectors_50)\n",
    "print(\"Analogy score for Skipgram model with dim=50: \" + str(skipgram_50_score))\n",
    "skipgram_150_score = analogy_function(skipgram_vectors_150)\n",
    "print(\"Analogy score for Skipgram model with dim=150: \" + str(skipgram_150_score))\n",
    "skipgram_300_score = analogy_function(skipgram_vectors_300)\n",
    "print(\"Analogy score for Skipgram model with dim=300: \" + str(skipgram_300_score))\n",
    "print()\n",
    "\n",
    "#skipgram + dense scores\n",
    "skipgram_dense_50_score = analogy_function(skipgram_dense_vectors_50)\n",
    "print(\"Analogy score for Skipgram + dense model with dim=50: \" + str(skipgram_dense_50_score))\n",
    "skipgram_dense_150_score = analogy_function(skipgram_dense_vectors_150)\n",
    "print(\"Analogy score for Skipgram + dense model with dim=150: \" + str(skipgram_dense_150_score))\n",
    "skipgram_dense_300_score = analogy_function(skipgram_dense_vectors_300)\n",
    "print(\"Analogy score for Skipgram + dense model with dim=300: \" + str(skipgram_dense_300_score))\n",
    "print()\n",
    "\n",
    "#TODO: analyze CBOW models"
   ]
  },
  {
   "cell_type": "markdown",
   "metadata": {},
   "source": [
    "**Comparison performance**"
   ]
  },
  {
   "cell_type": "markdown",
   "metadata": {},
   "source": [
    "In the analogy function defined above, we test the analogy calculation of 3 terms, i.e. A-B+C=D, by taking the vector of the expected answer, i.e. D, from the tested model, and then calculating how close is it with the actual vector result of A-B+C, using cosine similarity. The analogies used in the calculation are taken from the file \"analogy_alice.txt\". The analogy score is then defined as the average of cosine similarity score between the expected and the actual vector of the analogy calculations.\n",
    "\n",
    "Looking at the results above, we can conclude that a Skipgram model with 50 dimensions gives the best analogy results. It gives analogy score of 0.15 - which is not very high - but it is the closest to 1, which means that more analogy calculation results are similar to the expected answer compared to the other Skipgram models (with and without dense layers).\n",
    "\n",
    "_TODO: add comparison with CBOW models_"
   ]
  },
  {
   "cell_type": "code",
   "execution_count": 21,
   "metadata": {},
   "outputs": [
    {
     "name": "stdout",
     "output_type": "stream",
     "text": [
      "Analogy score for co-occurrance matrix: -0.0032230167361160843\n"
     ]
    }
   ],
   "source": [
    "#Comparison to the co-occurrance matrix embeddings\n",
    "f = open('analogy_alice.txt' ,'r')\n",
    "matrix_scores = []\n",
    "\n",
    "for row in f:\n",
    "    line = row.split()\n",
    "    if all(x in matrix for x in line):\n",
    "        A = np.array(matrix[line[0]].values, dtype=float)\n",
    "        B = np.array(matrix[line[1]].values, dtype=float)\n",
    "        C = np.array(matrix[line[2]].values, dtype=float)\n",
    "        D = np.array(matrix[line[3]].values, dtype=float)\n",
    "        matrix_scores.append(cosine_similarity((A - B + C).reshape(1, -1),D.reshape(1, -1))[0][0])\n",
    "    \n",
    "#matrix scores\n",
    "matrix_score = sum(matrix_scores)/len(matrix_scores)\n",
    "print(\"Analogy score for co-occurrance matrix: \" + str(matrix_score))"
   ]
  },
  {
   "cell_type": "code",
   "execution_count": 27,
   "metadata": {},
   "outputs": [
    {
     "data": {
      "text/html": [
       "<div>\n",
       "<style scoped>\n",
       "    .dataframe tbody tr th:only-of-type {\n",
       "        vertical-align: middle;\n",
       "    }\n",
       "\n",
       "    .dataframe tbody tr th {\n",
       "        vertical-align: top;\n",
       "    }\n",
       "\n",
       "    .dataframe thead th {\n",
       "        text-align: right;\n",
       "    }\n",
       "</style>\n",
       "<table border=\"1\" class=\"dataframe\">\n",
       "  <thead>\n",
       "    <tr style=\"text-align: right;\">\n",
       "      <th></th>\n",
       "      <th>50</th>\n",
       "      <th>150</th>\n",
       "      <th>300</th>\n",
       "    </tr>\n",
       "  </thead>\n",
       "  <tbody>\n",
       "    <tr>\n",
       "      <th>Skipgram</th>\n",
       "      <td>0.153818</td>\n",
       "      <td>0.098473</td>\n",
       "      <td>0.077115</td>\n",
       "    </tr>\n",
       "    <tr>\n",
       "      <th>Skipgram + dense</th>\n",
       "      <td>-0.002086</td>\n",
       "      <td>-0.027959</td>\n",
       "      <td>-0.000367</td>\n",
       "    </tr>\n",
       "    <tr>\n",
       "      <th>Co-occurrance matrix</th>\n",
       "      <td>-0.003223</td>\n",
       "      <td>-0.003223</td>\n",
       "      <td>-0.003223</td>\n",
       "    </tr>\n",
       "  </tbody>\n",
       "</table>\n",
       "</div>"
      ],
      "text/plain": [
       "                            50       150       300\n",
       "Skipgram              0.153818  0.098473  0.077115\n",
       "Skipgram + dense     -0.002086 -0.027959 -0.000367\n",
       "Co-occurrance matrix -0.003223 -0.003223 -0.003223"
      ]
     },
     "metadata": {},
     "output_type": "display_data"
    },
    {
     "data": {
      "text/plain": [
       "<matplotlib.legend.Legend at 0x28f418a32b0>"
      ]
     },
     "execution_count": 27,
     "metadata": {},
     "output_type": "execute_result"
    },
    {
     "data": {
      "image/png": "[encoded data removed]",
      "text/plain": [
       "<matplotlib.figure.Figure at 0x28f41de6a20>"
      ]
     },
     "metadata": {},
     "output_type": "display_data"
    }
   ],
   "source": [
    "#Visualization results trained word embeddings\n",
    "import matplotlib.pyplot as plt\n",
    "\n",
    "scores = pd.DataFrame(columns=[\"50\",\"150\",\"300\"])\n",
    "scores.loc[\"Skipgram\"] = [skipgram_50_score, skipgram_150_score, skipgram_300_score]\n",
    "scores.loc[\"Skipgram + dense\"] = [skipgram_dense_50_score, skipgram_dense_150_score, skipgram_dense_300_score]\n",
    "scores.loc[\"Co-occurrance matrix\"] = [matrix_score, matrix_score, matrix_score]\n",
    "display(scores)\n",
    "\n",
    "scores = scores.T\n",
    "scores = scores.reindex(scores.index.rename('Size'))\n",
    "ax = scores.plot(figsize=(12,4))\n",
    "ax.set_xticks(range(0, 3))\n",
    "ax.set_xticklabels(scores.index)\n",
    "plt.ylabel('Analogy score')\n",
    "plt.legend(loc='best')\n",
    "\n",
    "#TODO: visualize CBOW models results"
   ]
  },
  {
   "cell_type": "markdown",
   "metadata": {},
   "source": [
    "**Interpretation results of the visualization**"
   ]
  },
  {
   "cell_type": "markdown",
   "metadata": {},
   "source": [
    "From the visualization above, we can see that the analogy score of Skipgram, and Skipgram models with dense layers initially have relatively big difference. However, the more dimensions are included in either types, the closer the analogy score seems to converge. Nevertheless, it seems like increasing the dimensionality of (dense) Skipgram models in general results in less accurate analogy calculations.\n",
    "\n",
    "_TODO: add analysis of CBOW models_"
   ]
  },
  {
   "cell_type": "markdown",
   "metadata": {},
   "source": [
    "**Compare the results of the trained word embeddings with the word-word co-occurrence matrix**"
   ]
  },
  {
   "cell_type": "markdown",
   "metadata": {},
   "source": [
    "All Skipgram models seem to perform better than Co-occurrence matrix, except the 150-dimensions Skipgram with dense layers.\n",
    "\n",
    "*TODO: compare co-occurrence matrix with CBOW models*"
   ]
  },
  {
   "cell_type": "markdown",
   "metadata": {},
   "source": [
    "**Discussion of the advantages of CBOW and Skipgram, the advantages of negative sampling and drawbacks of CBOW and Skipgram**"
   ]
  },
  {
   "cell_type": "markdown",
   "metadata": {},
   "source": [
    "*TODO: after CBOW models are created*"
   ]
  },
  {
   "cell_type": "code",
   "execution_count": 8,
   "metadata": {},
   "outputs": [],
   "source": [
    "#load pretrained word embeddings of word2vec\n",
    "\n",
    "path_word2vec = \"../GoogleNews-vectors-negative300.bin\"\n",
    "\n",
    "word2vec = KeyedVectors.load_word2vec_format(path_word2vec, binary=True)"
   ]
  },
  {
   "cell_type": "code",
   "execution_count": 13,
   "metadata": {},
   "outputs": [],
   "source": [
    "#load pretraind word embeddings of Glove\n",
    "from gensim.scripts import glove2word2vec\n",
    "\n",
    "path = \"../glove.6B/glove.6B.300d.txt\"\n",
    "\n",
    "#convert GloVe into word2vec format\n",
    "num_vectors, num_dims = glove2word2vec.get_glove_info(path)\n",
    "glove2word2vec.glove2word2vec(path, \"glove_converted.txt\")"
   ]
  },
  {
   "cell_type": "code",
   "execution_count": 14,
   "metadata": {},
   "outputs": [],
   "source": [
    "#load glove from saved model\n",
    "glove = KeyedVectors.load_word2vec_format(\"glove_converted.txt\", binary=False)"
   ]
  },
  {
   "cell_type": "code",
   "execution_count": 52,
   "metadata": {},
   "outputs": [
    {
     "name": "stdout",
     "output_type": "stream",
     "text": [
      "Analogy score for glove: 0.3564882017935411\n",
      "Analogy score for word2vec: 0.2910029501014654\n",
      "400000\n"
     ]
    }
   ],
   "source": [
    "glove_score = analogy_function(glove)\n",
    "print(\"Analogy score for glove: \" + str(glove_score))\n",
    "word2vec_score = analogy_function(word2vec)\n",
    "print(\"Analogy score for word2vec: \" + str(word2vec_score))\n",
    "print(num_vectors)"
   ]
  },
  {
   "cell_type": "code",
   "execution_count": 65,
   "metadata": {},
   "outputs": [
    {
     "data": {
      "text/html": [
       "<div>\n",
       "<style scoped>\n",
       "    .dataframe tbody tr th:only-of-type {\n",
       "        vertical-align: middle;\n",
       "    }\n",
       "\n",
       "    .dataframe tbody tr th {\n",
       "        vertical-align: top;\n",
       "    }\n",
       "\n",
       "    .dataframe thead th {\n",
       "        text-align: right;\n",
       "    }\n",
       "</style>\n",
       "<table border=\"1\" class=\"dataframe\">\n",
       "  <thead>\n",
       "    <tr style=\"text-align: right;\">\n",
       "      <th></th>\n",
       "      <th>Analogy score</th>\n",
       "      <th># vectors</th>\n",
       "    </tr>\n",
       "  </thead>\n",
       "  <tbody>\n",
       "    <tr>\n",
       "      <th>Skipgram 50</th>\n",
       "      <td>0.153818</td>\n",
       "      <td>1182.0</td>\n",
       "    </tr>\n",
       "    <tr>\n",
       "      <th>Skipgram 150</th>\n",
       "      <td>0.098473</td>\n",
       "      <td>1182.0</td>\n",
       "    </tr>\n",
       "    <tr>\n",
       "      <th>Skipgram 300</th>\n",
       "      <td>0.077115</td>\n",
       "      <td>1182.0</td>\n",
       "    </tr>\n",
       "    <tr>\n",
       "      <th>Skipgram 50 + dense</th>\n",
       "      <td>-0.002086</td>\n",
       "      <td>1182.0</td>\n",
       "    </tr>\n",
       "    <tr>\n",
       "      <th>Skipgram 150 + dense</th>\n",
       "      <td>-0.027959</td>\n",
       "      <td>1182.0</td>\n",
       "    </tr>\n",
       "    <tr>\n",
       "      <th>Skipgram 300 + dense</th>\n",
       "      <td>-0.000367</td>\n",
       "      <td>1182.0</td>\n",
       "    </tr>\n",
       "    <tr>\n",
       "      <th>Co-occurrance matrix</th>\n",
       "      <td>-0.003223</td>\n",
       "      <td>1182.0</td>\n",
       "    </tr>\n",
       "    <tr>\n",
       "      <th>Glove 300</th>\n",
       "      <td>0.356488</td>\n",
       "      <td>400000.0</td>\n",
       "    </tr>\n",
       "    <tr>\n",
       "      <th>word2vec 300</th>\n",
       "      <td>0.291003</td>\n",
       "      <td>3000000.0</td>\n",
       "    </tr>\n",
       "  </tbody>\n",
       "</table>\n",
       "</div>"
      ],
      "text/plain": [
       "                      Analogy score  # vectors\n",
       "Skipgram 50                0.153818     1182.0\n",
       "Skipgram 150               0.098473     1182.0\n",
       "Skipgram 300               0.077115     1182.0\n",
       "Skipgram 50 + dense       -0.002086     1182.0\n",
       "Skipgram 150 + dense      -0.027959     1182.0\n",
       "Skipgram 300 + dense      -0.000367     1182.0\n",
       "Co-occurrance matrix      -0.003223     1182.0\n",
       "Glove 300                  0.356488   400000.0\n",
       "word2vec 300               0.291003  3000000.0"
      ]
     },
     "metadata": {},
     "output_type": "display_data"
    },
    {
     "data": {
      "text/plain": [
       "<matplotlib.legend.Legend at 0x28f446e99e8>"
      ]
     },
     "execution_count": 65,
     "metadata": {},
     "output_type": "execute_result"
    },
    {
     "data": {
      "image/png": "[encoded data removed]",
      "text/plain": [
       "<matplotlib.figure.Figure at 0x28f470791d0>"
      ]
     },
     "metadata": {},
     "output_type": "display_data"
    }
   ],
   "source": [
    "#Visualize the pre-trained word embeddings\n",
    "scores = pd.DataFrame(columns=['Analogy score', '# vectors'])\n",
    "scores.loc[\"Skipgram 50\"] = [skipgram_50_score, len(skipgram_vectors_50.keys())]\n",
    "scores.loc[\"Skipgram 150\"] = [skipgram_150_score, len(skipgram_vectors_150.keys())]\n",
    "scores.loc[\"Skipgram 300\"] = [skipgram_300_score, len(skipgram_vectors_300.keys())]\n",
    "scores.loc[\"Skipgram 50 + dense\"] = [skipgram_dense_50_score, len(skipgram_dense_vectors_50.keys())]\n",
    "scores.loc[\"Skipgram 150 + dense\"] = [skipgram_dense_150_score, len(skipgram_dense_vectors_150.keys())]\n",
    "scores.loc[\"Skipgram 300 + dense\"] = [skipgram_dense_300_score, len(skipgram_dense_vectors_300.keys())]\n",
    "scores.loc[\"Co-occurrance matrix\"] = [matrix_score, len(matrix.columns)]\n",
    "scores.loc[\"Glove \" + str(num_dims)] = [glove_score, len(glove.index2word)]\n",
    "scores.loc[\"word2vec 300\"] = [word2vec_score, len(word2vec.index2word)]\n",
    "display(scores)\n",
    "\n",
    "scores.drop(columns=['# vectors'], inplace=True)\n",
    "scores = scores.T\n",
    "ax = scores.plot(figsize=(12,4), kind='bar')\n",
    "ax.set_xticks(range(0, 3))\n",
    "ax.set_xticklabels(scores.index)\n",
    "plt.ylabel('Analogy score')\n",
    "plt.legend(loc='best')"
   ]
  },
  {
   "cell_type": "markdown",
   "metadata": {},
   "source": [
    "**Comparison performance with your own trained word embeddings**"
   ]
  },
  {
   "cell_type": "markdown",
   "metadata": {},
   "source": [
    "As shown in the graph above, the performance of analogy calculation on Glove pre-trained model, which contains 300 dimensions, far exceeds our own trained models. The same goes with word2vec pre-trained model, which gives the second best analogy score.\n",
    "\n",
    "From the table above the graph, we see that Glove has 400,000 vectors and word2vec has 3,000,000 vectors. In the mean time, our trained models only have 1,182 vectors. This means that the pre-trained models were trained on corpuses that contain more words than \"Alice In the Wonderland\", and therefore have information on more terms than our trained models. Therefore, it is not surprising that the pre-trained models perform better in analogy calculations compared to our own trained models."
   ]
  },
  {
   "cell_type": "code",
   "execution_count": null,
   "metadata": {},
   "outputs": [],
   "source": []
  }
 ],
 "metadata": {
  "kernelspec": {
   "display_name": "Python 3",
   "language": "python",
   "name": "python3"
  },
  "language_info": {
   "codemirror_mode": {
    "name": "ipython",
    "version": 3
   },
   "file_extension": ".py",
   "mimetype": "text/x-python",
   "name": "python",
   "nbconvert_exporter": "python",
   "pygments_lexer": "ipython3",
   "version": "3.5.4"
  }
 },
 "nbformat": 4,
 "nbformat_minor": 2
}
