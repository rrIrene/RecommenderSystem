{
 "cells": [
  {
   "cell_type": "markdown",
   "metadata": {},
   "source": [
    "# Assignment 1\n"
   ]
  },
  {
   "cell_type": "code",
   "execution_count": 1,
   "metadata": {},
   "outputs": [
    {
     "name": "stderr",
     "output_type": "stream",
     "text": [
      "Using TensorFlow backend.\n",
      "c:\\users\\robin\\anaconda\\envs\\tensorflow\\lib\\site-packages\\gensim\\utils.py:860: UserWarning: detected Windows; aliasing chunkize to chunkize_serial\n",
      "  warnings.warn(\"detected Windows; aliasing chunkize to chunkize_serial\")\n"
     ]
    }
   ],
   "source": [
    "import numpy as np\n",
    "np.random.seed(13) #TODO Check if this is used for sgd\n",
    "import keras.backend as K\n",
    "from keras.models import Sequential\n",
    "from keras.layers import Dense, Embedding, Reshape, Lambda\n",
    "from keras.utils import np_utils\n",
    "from keras.utils.data_utils import get_file\n",
    "from keras.preprocessing.text import Tokenizer\n",
    "from keras.utils.vis_utils import model_to_dot\n",
    "from keras.preprocessing import sequence\n",
    "from gensim.models import KeyedVectors\n",
    "from sklearn.manifold import TSNE\n",
    "from sklearn.metrics.pairwise import cosine_similarity\n",
    "from sklearn.neighbors import NearestNeighbors as nn\n",
    "from matplotlib import pylab\n",
    "from __future__ import division"
   ]
  },
  {
   "cell_type": "code",
   "execution_count": null,
   "metadata": {},
   "outputs": [],
   "source": [
    "# DO NOT Modify the lines in this cell\n",
    "path = 'alice.txt'\n",
    "corpus = open(path).readlines()[0:700]\n",
    "\n",
    "corpus = [sentence for sentence in corpus if sentence.count(\" \") >= 2]\n",
    "\n",
    "tokenizer = Tokenizer(filters='!\"#$%&()*+,-./:;<=>?@[\\\\]^_`{|}~\\t\\n'+\"'\")\n",
    "tokenizer.fit_on_texts(corpus)\n",
    "corpus = tokenizer.texts_to_sequences(corpus)\n",
    "nb_samples = sum(len(s) for s in corpus)\n",
    "V = len(tokenizer.word_index) + 1\n",
    "\n",
    "# Is this something they need to change?\n",
    "dim = 100\n",
    "window_size = 2 #use this window size for Skipgram, CBOW, and the model with the additional hidden layer\n",
    "window_size_corpus = 4 #use this window size for the co-occurrence matrix"
   ]
  },
  {
   "cell_type": "markdown",
   "metadata": {},
   "source": [
    "## Question 1\n",
    "\n",
    "### Co-occurrence Matrix\n",
    "Use the provided code to load the \"Alice in Wonderland\" text document. \n",
    "1. Implement the word-word co-occurrence matrix for “Alice in Wonderland”\n",
    "2. Normalize the words such that every value lies within a range of 0 and 1\n",
    "3. Compute the cosine distance between the given words:\n",
    "    - Alice \n",
    "    - Dinah\n",
    "    - Rabbit\n",
    "4. List the 5 closest words to 'Alice'. Discuss the results.\n",
    "5. Discuss what the main drawbacks are of a term-term co-occurence matrix solutions?\n"
   ]
  },
  {
   "cell_type": "code",
   "execution_count": null,
   "metadata": {},
   "outputs": [],
   "source": [
    "#create co-occurrence matrix\n",
    "import pandas as pd\n",
    "from sklearn import preprocessing\n",
    "\n",
    "#dataset with unique words as index\n",
    "words = list(tokenizer.word_index.keys())\n",
    "matrix = pd.DataFrame(words, columns=['words'])\n",
    "matrix.set_index('words', inplace=True)\n",
    "columns = pd.DataFrame(columns=words)\n",
    "matrix = pd.concat([matrix,columns])\n",
    "matrix = matrix.reindex(columns.columns, axis=1)\n",
    "matrix.fillna(0, inplace=True)\n",
    "\n",
    "#inverse index to get word by code\n",
    "inverse_index = dict((v,k) for k, v in tokenizer.word_index.items())\n",
    "\n",
    "#compute score for every word-word couple\n",
    "for line in corpus:\n",
    "    for i, word_code in enumerate(line):\n",
    "        word = inverse_index.get(word_code)\n",
    "        for j in range(max(0, i-window_size_corpus), min(len(line), i+window_size_corpus+1)):\n",
    "            if word_code != line[j]:\n",
    "                matrix[word][inverse_index.get(line[j])] += 1\n",
    "\n",
    "#normalize each sample\n",
    "normalized_values = preprocessing.normalize(matrix.values)\n",
    "matrix = pd.DataFrame(normalized_values, index=matrix.index, columns=matrix.columns)\n",
    "\n",
    "matrix.head()"
   ]
  },
  {
   "cell_type": "code",
   "execution_count": null,
   "metadata": {},
   "outputs": [],
   "source": [
    "#find cosine similarity to Alice, Dinah and Rabbit\n",
    "\n",
    "alice_vector = matrix['alice'].values.reshape(1, -1)\n",
    "rabbit_vector = matrix['rabbit'].values.reshape(1, -1)\n",
    "dinah_vector = matrix['dinah'].values.reshape(1, -1)\n",
    "\n",
    "alice_vs_rabbit = cosine_similarity(alice_vector, rabbit_vector)\n",
    "alice_vs_dinah = cosine_similarity(alice_vector, dinah_vector)\n",
    "dinah_vs_rabbit = cosine_similarity(dinah_vector, rabbit_vector)\n",
    "\n",
    "print(\"Cosine similarity between Alice and Rabbit: \" + str(alice_vs_rabbit[0][0]))\n",
    "print(\"Cosine similarity between Alice and Dinah: \" + str(alice_vs_dinah[0][0]))\n",
    "print(\"Cosine similarity between Dinah and Rabbit: \" + str(dinah_vs_rabbit[0][0]))"
   ]
  },
  {
   "cell_type": "code",
   "execution_count": null,
   "metadata": {},
   "outputs": [],
   "source": [
    "#find the closest words to Alice (nearest neighbors)\n",
    "\n",
    "neigh = nn()\n",
    "neigh.fit(matrix.values)\n",
    "\n",
    "neighbors = neigh.kneighbors(alice_vector, 6)\n",
    "\n",
    "for i, n in enumerate(neighbors[1][0]):\n",
    "    if matrix.index[n] != 'alice':\n",
    "        print(\"Word: {}\\nDistance: {}\\n\".format(matrix.index[n], neighbors[0][0][i]))"
   ]
  },
  {
   "cell_type": "markdown",
   "metadata": {},
   "source": [
    "The five closest words to \"Alice\" appear to be: \"I\", \"she\", \"a\", \"very\" and \"it\". It makes sense that the personal pronouns \"she\" and \"i\" are the closest ones to \"Alice\", since they are used in very similiar contexts and they are probably often followed by the same verbs. E.g. \"Alice sees the rabbit\", \"she sees the rabbit\" or \"I see the rabbit\", in direct dialogs. As for the other three words, they do not bring valuable information, as they are all quite common in the english language. A possible way to avoid this would be to remove stopwords from the corpus, in order to focus only on more meaningful terms."
   ]
  },
  {
   "cell_type": "markdown",
   "metadata": {},
   "source": [
    "Discussion of the drawbacks:\n",
    "- **Sparse matrix:** As can be seen in the output of the matrix, the word pair 'particular' and 'suddenly' never appear close to each other in the corpus, but there is still a cell reserved in the matrix for that pair. The same goes for many other pairs in the matrix, resulting in many cells with value 0. Obviously, this is not very efficient for storage.\n",
    "- **Large matrix:** As can be seen in the word co-occurrence matrix for Alice In Wonderland that was created above, the matrix size is 1182 rows x 1182 columns, where 1182 is the number of tokens in the corpus. It is easy to imagine that this will become a problem for a bigger corpus, or for a corpus which has dynamic content, e.g. a web search engine.\n",
    "- **Non-discriminative results:** As shown in the nearest neighbors calculation above, the words 'a', 'it', and 'very' do not give very meaningful correlation. However, they are among the most common words used in English language, so it makes sense that they appear often near the term 'Alice' (or any other terms in the corpus). Therefore, stopwords filter or even a different weighting score other than word occurence count should be used in order to find words correlation that is more meaningful."
   ]
  },
  {
   "cell_type": "code",
   "execution_count": null,
   "metadata": {},
   "outputs": [],
   "source": [
    "#Save your all the vector representations of your word embeddings in this way\n",
    "#Change when necessary the sizes of the vocabulary/embedding dimension\n",
    "\n",
    "f = open('vectors_co_occurrence.txt',\"w\")\n",
    "f.write(\" \".join([str(V-1),str(V-1)]))\n",
    "f.write(\"\\n\")\n",
    "\n",
    "#vectors = your word co-occurrence matrix\n",
    "vectors = matrix.values\n",
    "for i, word in enumerate(tokenizer.word_index.keys()): \n",
    "    f.write(word)\n",
    "    f.write(\" \")\n",
    "    f.write(\" \".join(map(str, list(vectors[i,:]))))\n",
    "    f.write(\"\\n\")\n",
    "f.close()"
   ]
  },
  {
   "cell_type": "code",
   "execution_count": null,
   "metadata": {},
   "outputs": [],
   "source": [
    "#reopen your file as follows\n",
    "\n",
    "co_occurrence = KeyedVectors.load_word2vec_format('./vectors_co_occurrence.txt', binary=False)"
   ]
  },
  {
   "cell_type": "markdown",
   "metadata": {},
   "source": [
    "## Question 2\n",
    "\n",
    "### Word embeddings\n",
    "Build embeddings with a keras implementation where the embedding vector is of length 50, 150 and 300. Use the Alice in Wonderland text book for training.\n",
    "1. Using the CBOW model\n",
    "2. Using Skipgram model\n",
    "3. Add extra hidden dense layer to CBow and Skipgram implementations. Choose an activation function for that layer and justify your answer.\n",
    "4. Analyze the four different word embeddings\n",
    "    - Implement your own function to perform the analogy task with. Do not use existing libraries for this task such as Gensim. Your function should be able to answer whether an anaology as in the example given in the pdf-file is true.\n",
    "    - Compare the performance on the analogy task between the word embeddings that you have trained in 2.1, 2.2 and 2.3.  \n",
    "    - Visualize your results and interpret your results\n",
    "5. Use the word co-occurence matrix from Question 1. Compare the performance on the analogy task with the performance of your trained word embeddings.  \n",
    "6. Discuss:\n",
    "    - What are the main advantages of CBOW and Skipgram?\n",
    "    - What is the advantage of negative sampling?\n",
    "    - What are the main drawbacks of CBOW and Skipgram?\n",
    "7. Load pre-trained embeddings on large corpuses (see the pdf file). You only have to consider the word embeddings with an embedding size of 300\n",
    "    - Compare performance on the analogy task with your own trained embeddings from \"Alice in Wonderland\". You can limit yourself to the vocabulary of Alice in Wonderland. Visualize the pre-trained word embeddings and compare these with the results of your own trained word embeddings. \n"
   ]
  },
  {
   "cell_type": "code",
   "execution_count": null,
   "metadata": {},
   "outputs": [],
   "source": [
    "#function definitions for CBOW\n",
    "\n",
    "#generate data for CBOW\n",
    "def generate_data_cbow(corpus, window_size, V):\n",
    "    maxlen = window_size*2\n",
    "    all_in = []\n",
    "    all_out = []\n",
    "    for words in corpus:\n",
    "        L = len(words)\n",
    "        for index, word in enumerate(words):\n",
    "            p = index - window_size\n",
    "            n = index + window_size + 1\n",
    "                    \n",
    "            out_word = word\n",
    "            labels = []\n",
    "            for i in range(p, n):\n",
    "                if i != index and 0 <= i < L:\n",
    "                    #out_words.append([word])\n",
    "                    labels.append(np_utils.to_categorical(words[i], V))\n",
    "            if labels != []:\n",
    "                labels_sum = np.sum(labels, axis=0)\n",
    "                context = labels_sum / np.linalg.norm(labels_sum)\n",
    "                all_in.append(np.array([context],dtype=np.float32))\n",
    "                all_out.append(np.array([[out_word]],dtype=np.int32))\n",
    "    return (all_in,all_out)\n",
    "\n",
    "#load the preprocessed CBOW data\n",
    "def generate_data_cbow_from_file():\n",
    "    f = open('data_cbow.txt' ,'r')\n",
    "    for row in f:\n",
    "        inputs,outputs = row.split(\",\")\n",
    "        inputs = np.fromstring(inputs, dtype=float, sep=' ')\n",
    "        inputs = np.asarray([inputs])\n",
    "        outputs = np.fromstring(outputs, dtype=int, sep=' ')\n",
    "        outputs = np.asarray([outputs])\n",
    "        yield (inputs,outputs)"
   ]
  },
  {
   "cell_type": "code",
   "execution_count": null,
   "metadata": {
    "scrolled": true
   },
   "outputs": [],
   "source": [
    "#prepare data for cbow\n",
    "   \n",
    "#get x and y's for data\n",
    "x,y = generate_data_cbow(corpus,window_size,V)\n",
    "\n",
    "#save the preprocessed data of CBOW\n",
    "f = open('data_cbow.txt' ,'w')\n",
    "\n",
    "for input,outcome  in zip(x,y):\n",
    "    input = np.concatenate(input)\n",
    "    f.write(\" \".join(map(str, list(input))))\n",
    "    f.write(\",\")\n",
    "    outcome = np.concatenate(outcome)\n",
    "    f.write(\" \".join(map(str,list(outcome))))\n",
    "    f.write(\"\\n\")\n",
    "f.close()"
   ]
  },
  {
   "cell_type": "markdown",
   "metadata": {},
   "source": [
    "#create CBOW model (TO DO)\n",
    "\n",
    "for dim in [50, 150, 300]:\n",
    "    #create model\n",
    "    cbow = Sequential()\n",
    "    cbow.add(Dense(input_dim=V, units=dim, kernel_initializer='uniform', activation='softmax'))\n",
    "    #cbow.add(Reshape((dim, )))\n",
    "    cbow.add(Embedding(input_dim=V, output_dim=dim, embeddings_initializer='glorot_uniform', input_length=1))\n",
    "    \n",
    "    #define loss function for CBOW\n",
    "    cbow.compile(loss='categorical_crossentropy', optimizer='adadelta')\n",
    "    \n",
    "    #train CBOW model\n",
    "    print(\"\\nTraining cbow for dim=\"+str(dim))\n",
    "    for ite in range(5):\n",
    "        loss = 0.\n",
    "        for x, y in generate_data_cbow_from_file():\n",
    "            loss += cbow.train_on_batch(x, y)\n",
    "        print(ite, loss)\n",
    "    \n",
    "    #save vector representation to file\n",
    "    f = open('vectors_cbow_'+str(dim)+'.txt' ,'w')\n",
    "    f.write(\" \".join([str(V-1),str(dim)]))\n",
    "    f.write(\"\\n\")\n",
    "\n",
    "    vectors = cbow.get_weights()[0]\n",
    "    for word, i in tokenizer.word_index.items():\n",
    "        f.write(word)\n",
    "        f.write(\" \")\n",
    "        f.write(\" \".join(map(str, list(vectors[i,:]))))\n",
    "        f.write(\"\\n\")\n",
    "    f.close()"
   ]
  },
  {
   "cell_type": "code",
   "execution_count": null,
   "metadata": {},
   "outputs": [],
   "source": [
    "#define loss function\n"
   ]
  },
  {
   "cell_type": "code",
   "execution_count": null,
   "metadata": {},
   "outputs": [],
   "source": [
    "#train model\n"
   ]
  },
  {
   "cell_type": "code",
   "execution_count": null,
   "metadata": {},
   "outputs": [],
   "source": [
    "#function definitions for Skipgram\n",
    "\n",
    "#generate data for Skipgram\n",
    "def generate_data_skipgram(corpus, window_size, V):\n",
    "    maxlen = window_size*2\n",
    "    all_in = []\n",
    "    all_out = []\n",
    "    for words in corpus:\n",
    "        L = len(words)\n",
    "        for index, word in enumerate(words):\n",
    "            p = index - window_size\n",
    "            n = index + window_size + 1\n",
    "                    \n",
    "            in_words = []\n",
    "            labels = []\n",
    "            for i in range(p, n):\n",
    "                if i != index and 0 <= i < L:\n",
    "                    in_words.append([word])\n",
    "                    labels.append(words[i])\n",
    "            if in_words != []:\n",
    "                all_in.append(np.array(in_words,dtype=np.int32))\n",
    "                all_out.append(np_utils.to_categorical(labels, V))\n",
    "    return (all_in,all_out)\n",
    "\n",
    "#load the preprocessed Skipgram data\n",
    "def generate_data_skipgram_from_file():\n",
    "    f = open('data_skipgram.txt' ,'r')\n",
    "    for row in f:\n",
    "        inputs,outputs = row.split(\",\")\n",
    "        inputs = np.fromstring(inputs, dtype=int, sep=' ')\n",
    "        inputs = np.asarray(np.split(inputs, len(inputs)))\n",
    "        outputs = np.fromstring(outputs, dtype=float, sep=' ')\n",
    "        outputs = np.asarray(np.split(outputs, len(inputs)))\n",
    "        yield (inputs,outputs)"
   ]
  },
  {
   "cell_type": "code",
   "execution_count": null,
   "metadata": {},
   "outputs": [],
   "source": [
    "#prepare data for Skipgram\n",
    "   \n",
    "#get x and y's for data\n",
    "x,y = generate_data_skipgram(corpus,window_size,V)\n",
    "\n",
    "#save the preprocessed data of Skipgram\n",
    "f = open('data_skipgram.txt' ,'w')\n",
    "\n",
    "for input,outcome  in zip(x,y):\n",
    "    input = np.concatenate(input)\n",
    "    f.write(\" \".join(map(str, list(input))))\n",
    "    f.write(\",\")\n",
    "    outcome = np.concatenate(outcome)\n",
    "    f.write(\" \".join(map(str,list(outcome))))\n",
    "    f.write(\"\\n\")\n",
    "f.close()"
   ]
  },
  {
   "cell_type": "code",
   "execution_count": null,
   "metadata": {},
   "outputs": [],
   "source": [
    "#create Skipgram model\n",
    "\n",
    "for dim in [50, 150, 300]:\n",
    "    #create model\n",
    "    skipgram = Sequential()\n",
    "    skipgram.add(Embedding(input_dim=V, output_dim=dim, embeddings_initializer='glorot_uniform', input_length=1))\n",
    "    skipgram.add(Reshape((dim, )))\n",
    "    skipgram.add(Dense(input_dim=dim, units=V, kernel_initializer='uniform', activation='softmax'))\n",
    "    \n",
    "    #define loss function for Skipgram\n",
    "    skipgram.compile(loss='categorical_crossentropy', optimizer='adadelta')\n",
    "    \n",
    "    #train skipgram model\n",
    "    print(\"\\nTraining skipgram for dim=\"+str(dim))\n",
    "    for ite in range(10):\n",
    "        loss = 0.\n",
    "        for x, y in generate_data_skipgram_from_file():\n",
    "            loss += skipgram.train_on_batch(x, y)\n",
    "        print(ite, loss)\n",
    "    \n",
    "    #save vector representation to file\n",
    "    f = open('vectors_skipgram_'+str(dim)+'.txt' ,'w')\n",
    "    f.write(\" \".join([str(V-1),str(dim)]))\n",
    "    f.write(\"\\n\")\n",
    "\n",
    "    vectors = skipgram.get_weights()[0]\n",
    "    for word, i in tokenizer.word_index.items():\n",
    "        f.write(word)\n",
    "        f.write(\" \")\n",
    "        f.write(\" \".join(map(str, list(vectors[i,:]))))\n",
    "        f.write(\"\\n\")\n",
    "    f.close()"
   ]
  },
  {
   "cell_type": "code",
   "execution_count": null,
   "metadata": {},
   "outputs": [],
   "source": [
    "#create CBOW model with additional dense layer\n"
   ]
  },
  {
   "cell_type": "code",
   "execution_count": null,
   "metadata": {},
   "outputs": [],
   "source": [
    "#define loss function for CBOW + dense\n"
   ]
  },
  {
   "cell_type": "code",
   "execution_count": null,
   "metadata": {},
   "outputs": [],
   "source": [
    "#train model for CBOW + dense\n"
   ]
  },
  {
   "cell_type": "code",
   "execution_count": null,
   "metadata": {},
   "outputs": [],
   "source": [
    "#create Skipgram model with additional dense layer\n",
    "\n",
    "for dim in [50, 150, 300]:\n",
    "    #create model\n",
    "    skipgram = Sequential()\n",
    "    skipgram.add(Embedding(input_dim=V, output_dim=dim, embeddings_initializer='glorot_uniform', input_length=1))\n",
    "    skipgram.add(Reshape((dim, )))\n",
    "    skipgram.add(Dense(128, activation=\"relu\"))\n",
    "    skipgram.add(Dense(input_dim=dim, units=V, kernel_initializer='uniform', activation='softmax'))\n",
    "    \n",
    "    #define loss function for Skipgram + dense\n",
    "    skipgram.compile(loss='categorical_crossentropy', optimizer='adadelta')\n",
    "    \n",
    "    #train model for Skipgram + dense\n",
    "    print(\"\\nTraining skipgram with dense layer for dim=\"+str(dim))\n",
    "    for ite in range(10):\n",
    "        loss = 0.\n",
    "        for x, y in generate_data_skipgram_from_file():\n",
    "            loss += skipgram.train_on_batch(x, y)\n",
    "        print(ite, loss)\n",
    "    \n",
    "    #save vector representation to file\n",
    "    f = open('vectors_skipgram_dense_'+str(dim)+'.txt' ,'w')\n",
    "    f.write(\" \".join([str(V-1),str(dim)]))\n",
    "    f.write(\"\\n\")\n",
    "\n",
    "    vectors = skipgram.get_weights()[0]\n",
    "    for word, i in tokenizer.word_index.items():\n",
    "        f.write(word)\n",
    "        f.write(\" \")\n",
    "        f.write(\" \".join(map(str, list(vectors[i,:]))))\n",
    "        f.write(\"\\n\")\n",
    "    f.close()"
   ]
  },
  {
   "cell_type": "code",
   "execution_count": null,
   "metadata": {},
   "outputs": [],
   "source": [
    "#load vectors from files\n",
    "cbows = []\n",
    "cbows_dense = []\n",
    "skipgrams = []\n",
    "skipgrams_dense = []\n",
    "    \n",
    "for dim in [50, 150, 300]:\n",
    "    f = open('vectors_skipgram_'+str(dim)+'.txt' ,'r')\n",
    "    d = {}\n",
    "    for row in f.readlines()[1:]:\n",
    "        line = row.split()\n",
    "        d[line[0]] = line[1:]\n",
    "    skipgrams.append(d)\n",
    "    \n",
    "    f = open('vectors_skipgram_dense_'+str(dim)+'.txt' ,'r')\n",
    "    d = {}\n",
    "    for row in f.readlines()[1:]:\n",
    "        line = row.split()\n",
    "        d[line[0]] = line[1:]\n",
    "    skipgrams_dense.append(d)\n",
    "    \n",
    "#save as separate dictionaries\n",
    "skipgram_vectors_50 = skipgrams[0]\n",
    "skipgram_vectors_150 = skipgrams[1]\n",
    "skipgram_vectors_300 = skipgrams[2]\n",
    "skipgram_dense_vectors_50 = skipgrams_dense[0]\n",
    "skipgram_dense_vectors_150 = skipgrams_dense[1]\n",
    "skipgram_dense_vectors_300 = skipgrams_dense[2]"
   ]
  },
  {
   "cell_type": "code",
   "execution_count": null,
   "metadata": {},
   "outputs": [],
   "source": [
    "#Implement your own analogy function\n",
    "#use cosine similarity & nearest neighbor?"
   ]
  },
  {
   "cell_type": "markdown",
   "metadata": {},
   "source": [
    "Comparison performance:"
   ]
  },
  {
   "cell_type": "code",
   "execution_count": null,
   "metadata": {},
   "outputs": [],
   "source": [
    "#Visualization results trained word embeddings\n"
   ]
  },
  {
   "cell_type": "markdown",
   "metadata": {},
   "source": [
    "Interpretation results of the visualization"
   ]
  },
  {
   "cell_type": "markdown",
   "metadata": {},
   "source": [
    "Compare the results of the trained word embeddings with the word-word co-occurrence matrix"
   ]
  },
  {
   "cell_type": "markdown",
   "metadata": {},
   "source": [
    "Discussion of the advantages of CBOW and Skipgram, the advantages of negative sampling and drawbacks of CBOW and Skipgram"
   ]
  },
  {
   "cell_type": "code",
   "execution_count": null,
   "metadata": {},
   "outputs": [],
   "source": [
    "#load pretrained word embeddings of word2vec\n",
    "\n",
    "path_word2vec = \"/GoogleNews-vectors-negative300.bin\"\n",
    "\n",
    "#word2vec = KeyedVectors.load_word2vec_format(path, binary=True)"
   ]
  },
  {
   "cell_type": "code",
   "execution_count": null,
   "metadata": {},
   "outputs": [],
   "source": [
    "#load pretraind word embeddings of Glove\n",
    "\n",
    "path = \"/glove.6B/glove.6B.300d_converted.txt\"\n",
    "\n",
    "#convert GloVe into word2vec format\n",
    "gensim.scripts.glove2word2vec.get_glove_info(path)\n",
    "gensim.scripts.glove2word2vec.glove2word2vec(path, \"glove_converted.txt\")\n",
    "\n",
    "#glove = KeyedVectors.load_word2vec_format(path, binary=False)"
   ]
  },
  {
   "cell_type": "code",
   "execution_count": null,
   "metadata": {},
   "outputs": [],
   "source": [
    "#Visualize the pre-trained word embeddings"
   ]
  },
  {
   "cell_type": "markdown",
   "metadata": {},
   "source": [
    "Comparison performance with your own trained word embeddings"
   ]
  },
  {
   "cell_type": "code",
   "execution_count": null,
   "metadata": {},
   "outputs": [],
   "source": []
  }
 ],
 "metadata": {
  "kernelspec": {
   "display_name": "Python 3",
   "language": "python",
   "name": "python3"
  },
  "language_info": {
   "codemirror_mode": {
    "name": "ipython",
    "version": 3
   },
   "file_extension": ".py",
   "mimetype": "text/x-python",
   "name": "python",
   "nbconvert_exporter": "python",
   "pygments_lexer": "ipython3",
   "version": "3.5.4"
  }
 },
 "nbformat": 4,
 "nbformat_minor": 2
}
